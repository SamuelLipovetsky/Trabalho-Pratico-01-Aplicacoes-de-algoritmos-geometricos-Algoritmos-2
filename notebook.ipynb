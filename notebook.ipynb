{
 "cells": [
  {
   "cell_type": "code",
   "execution_count": 121,
   "metadata": {},
   "outputs": [],
   "source": [
    "from xnn import xnn \n",
    "from aux_functions import keel_dat_reader\n",
    "from aux_functions import split\n",
    "import matplotlib.pyplot as plt\n",
    "import matplotlib.patches as mpatches\n"
   ]
  },
  {
   "cell_type": "markdown",
   "metadata": {},
   "source": [
    "# Exploração dos dados \n",
    "Esse notebook tem o intuito de explorar mais os conjuntos de dados , pricipalmente  determinando um número adequado k de vizinhos e mostrando graficamente os resultados"
   ]
  },
  {
   "cell_type": "markdown",
   "metadata": {},
   "source": [
    "# Banana data set\n",
    "\n",
    "Features : 2 ,\n",
    "instances : 5300 ,\n",
    "Classes : -1.0 ou 1.0"
   ]
  },
  {
   "cell_type": "markdown",
   "metadata": {},
   "source": [
    "Determinando melhor número de vizinhos entre 5 e 30"
   ]
  },
  {
   "cell_type": "code",
   "execution_count": 122,
   "metadata": {},
   "outputs": [],
   "source": [
    "\n",
    "\n",
    "def plot_graphs(path_to_file,separator,labels,relevant,title):\n",
    "    points = keel_dat_reader(path_to_file,separator)\n",
    "    train,test = split(points,0.7)\n",
    "    tree=xnn(train)\n",
    "    k=[5,10,15,20,25,30]\n",
    "    prec=[]\n",
    "    rec =[]\n",
    "    acc =[]\n",
    "    for i in k:\n",
    "        tree.knn_classifier(test,labels,i)\n",
    "        stats=tree.get_stats(relevant)\n",
    "        prec.append(stats[0])\n",
    "        rec.append(stats[1])\n",
    "        acc.append(stats[2])\n",
    "\n",
    "    plt.plot(k,prec,'bs',k,rec,'r^',k,acc,'go')\n",
    "    plt.axis([4, 31, 0, 1.1])\n",
    "\n",
    "    precision = mpatches.Patch(color='red', label='precision')\n",
    "    recall = mpatches.Patch(color='blue', label='recall')\n",
    "    accuracy = mpatches.Patch(color='green', label='accuracy')\n",
    "    plt.legend(handles=[precision,recall,accuracy])\n",
    "    plt.ylabel(\"score\")\n",
    "    plt.xlabel(\"Number of neighbors\")\n",
    "    plt.title(title)\n",
    "    plt.show()\n",
    "   "
   ]
  },
  {
   "cell_type": "code",
   "execution_count": 123,
   "metadata": {},
   "outputs": [],
   "source": [
    "plot_graphs('./datasets/banana.dat',\",\",[\"-1.0\",\"1.0\"],\"1.0\",\"banana\")\n",
    "plot_graphs('./datasets/bupa.dat',\", \",[\"2\",\"1\"],\"2\",\"bupa\")\n",
    "plot_graphs('./datasets/haberman.dat',\", \",[\"positive\",\"negative\"],\"negative\",\"haberman\")\n",
    "plot_graphs('./datasets/monk-2.dat',\", \",[\"1\",\"0\"],\"1\",\"monk-2\")\n",
    "plot_graphs('./datasets/phoneme.dat',\",\",[\"0\",\"1\"],\"1\",\"phoneme\")\n",
    "plot_graphs('./datasets/pima.dat',\",\",[\"tested_positive\",\"tested_negative\"],\"tested_positive\",\"pima\")\n",
    "plot_graphs('./datasets/sonar.dat',\", \",[\"M\", \"R\"],\"R\",\"sonar\")\n",
    "plot_graphs('./datasets/titanic.dat',\",\",[\"-1.0\",\"1.0\"],\"1.0\",\"titanic\")\n",
    "plot_graphs('./datasets/wdbc.dat',\",\",[\"M\",\"B\"],\"M\",\"wdbc\")\n",
    "plot_graphs('./datasets/appendicitis.dat',\",\",[\"0\",\"1\"],\"1\",\"appendicitis\")"
   ]
  }
 ],
 "metadata": {
  "interpreter": {
   "hash": "082fde8a6f3896188a2f2a03a1b5b7678b6a5289d2764a7df47217e65b7a549b"
  },
  "kernelspec": {
   "display_name": "Python 3.7.6 32-bit",
   "language": "python",
   "name": "python3"
  },
  "language_info": {
   "codemirror_mode": {
    "name": "ipython",
    "version": 3
   },
   "file_extension": ".py",
   "mimetype": "text/x-python",
   "name": "python",
   "nbconvert_exporter": "python",
   "pygments_lexer": "ipython3",
   "version": "3.7.6"
  },
  "orig_nbformat": 4
 },
 "nbformat": 4,
 "nbformat_minor": 2
}
